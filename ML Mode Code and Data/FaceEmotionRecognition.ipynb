{
 "cells": [
  {
   "cell_type": "code",
   "execution_count": 1,
   "id": "ceb48852",
   "metadata": {},
   "outputs": [],
   "source": [
    "import sys\n",
    "sys.path.append('C:\\\\users\\\\yoyoy\\\\anaconda3\\\\envs\\\\rl\\\\lib\\\\site-packages')"
   ]
  },
  {
   "cell_type": "code",
   "execution_count": 2,
   "id": "06a1bd90",
   "metadata": {},
   "outputs": [],
   "source": [
    "import tensorflow as tf\n",
    "from tensorflow import keras\n",
    "from tensorflow.keras import layers\n",
    "\n",
    "import cv2 \n",
    "import os\n",
    "import random\n",
    "import matplotlib.pyplot as plt\n",
    "%matplotlib inline\n",
    "import numpy as np\n",
    "\n",
    "import warnings\n",
    "warnings.filterwarnings('ignore')"
   ]
  },
  {
   "cell_type": "code",
   "execution_count": null,
   "id": "766bccbf",
   "metadata": {},
   "outputs": [],
   "source": [
    "image = cv2.imread(\"dataset/train/angry/Training_3908.jpg\")"
   ]
  },
  {
   "cell_type": "code",
   "execution_count": null,
   "id": "b36b6d1d",
   "metadata": {},
   "outputs": [],
   "source": [
    "image.shape"
   ]
  },
  {
   "cell_type": "code",
   "execution_count": null,
   "id": "68a0cd65",
   "metadata": {},
   "outputs": [],
   "source": [
    "#image = cv2.cvtColor(image, cv2.COLOR_BGR2RGB)"
   ]
  },
  {
   "cell_type": "code",
   "execution_count": null,
   "id": "327001c5",
   "metadata": {},
   "outputs": [],
   "source": [
    "plt.imshow(image)"
   ]
  },
  {
   "cell_type": "code",
   "execution_count": null,
   "id": "f33cece1",
   "metadata": {},
   "outputs": [],
   "source": [
    "Datadirectory = \"dataset/train/\"\n",
    "Classes = [\"angry\",\"disgust\",\"fear\",\"happy\",\"neutral\",\"sad\",\"surprise\"]"
   ]
  },
  {
   "cell_type": "code",
   "execution_count": null,
   "id": "c6bc0f58",
   "metadata": {},
   "outputs": [],
   "source": [
    "for category in Classes:\n",
    "    path = os.path.join(Datadirectory, category)\n",
    "    for img in os.listdir(path):\n",
    "        image = cv2.imread(os.path.join(path, img))\n",
    "        #image = cv2.cvtColor(image, cv2.COLOR_BGR2RGB)\n",
    "        plt.imshow(image)\n",
    "        break\n",
    "    break"
   ]
  },
  {
   "cell_type": "code",
   "execution_count": null,
   "id": "5afaed15",
   "metadata": {},
   "outputs": [],
   "source": [
    "img_size = 224 # ImageNet -> 224 x 224\n",
    "image = cv2.resize(image, (img_size, img_size))\n",
    "plt.imshow(image)\n",
    "plt.show()"
   ]
  },
  {
   "cell_type": "code",
   "execution_count": null,
   "id": "b90a60ca",
   "metadata": {},
   "outputs": [],
   "source": [
    "image.shape"
   ]
  },
  {
   "cell_type": "markdown",
   "id": "5d88da41",
   "metadata": {},
   "source": [
    "### Read all images and convert them to array"
   ]
  },
  {
   "cell_type": "code",
   "execution_count": 6,
   "id": "5fe599a0",
   "metadata": {},
   "outputs": [],
   "source": [
    "Datadirectory = \"dataset/train/\"\n",
    "Classes = [\"angry\",\"disgust\",\"fear\",\"happy\",\"neutral\",\"sad\",\"surprise\"]\n",
    "img_size = 224 # ImageNet -> 224 x 224\n",
    "\n",
    "training_data = []\n",
    "\n",
    "def create_training_data():\n",
    "    for category in Classes:\n",
    "        path = os.path.join(Datadirectory, category)\n",
    "        class_num = Classes.index(category)\n",
    "        for img in os.listdir(path):\n",
    "            try:\n",
    "                image = cv2.imread(os.path.join(path, img))\n",
    "                #image = cv2.cvtColor(image, cv2.COLOR_BGR2RGB)\n",
    "                image = cv2.resize(image, (img_size, img_size))\n",
    "                training_data.append([image, class_num])\n",
    "            except Exception as e:\n",
    "                pass"
   ]
  },
  {
   "cell_type": "code",
   "execution_count": 7,
   "id": "92441f80",
   "metadata": {},
   "outputs": [],
   "source": [
    "create_training_data()"
   ]
  },
  {
   "cell_type": "code",
   "execution_count": null,
   "id": "c1f3f2ad",
   "metadata": {},
   "outputs": [],
   "source": [
    "print(len(training_data))"
   ]
  },
  {
   "cell_type": "code",
   "execution_count": null,
   "id": "cd454317",
   "metadata": {},
   "outputs": [],
   "source": [
    "temp = np.array(training_data)\n",
    "temp.shape\n",
    "#temp[0][1]"
   ]
  },
  {
   "cell_type": "code",
   "execution_count": 8,
   "id": "e511772b",
   "metadata": {},
   "outputs": [],
   "source": [
    "random.shuffle(training_data) #shuffle data"
   ]
  },
  {
   "cell_type": "code",
   "execution_count": 9,
   "id": "5ef47283",
   "metadata": {},
   "outputs": [],
   "source": [
    "X = []\n",
    "y = []\n",
    "\n",
    "for features, label in training_data:\n",
    "    X.append(features)\n",
    "    y.append(label)\n",
    "    \n",
    "X = np.array(X).reshape(-1, img_size, img_size, 3)"
   ]
  },
  {
   "cell_type": "code",
   "execution_count": null,
   "id": "afd3872a",
   "metadata": {},
   "outputs": [],
   "source": [
    "X.shape"
   ]
  },
  {
   "cell_type": "code",
   "execution_count": null,
   "id": "78aa306a",
   "metadata": {},
   "outputs": [],
   "source": [
    "Y = np.array(y)\n",
    "Y.shape"
   ]
  },
  {
   "cell_type": "code",
   "execution_count": 10,
   "id": "e2fa8674",
   "metadata": {},
   "outputs": [],
   "source": [
    "# Normalize data\n",
    "# you could use scikit-learn\n",
    "\n",
    "X = X/255.0"
   ]
  },
  {
   "cell_type": "markdown",
   "id": "5baf6273",
   "metadata": {},
   "source": [
    "### Deep Learning model for training - Transfer Learning"
   ]
  },
  {
   "cell_type": "code",
   "execution_count": 3,
   "id": "a40f70f3",
   "metadata": {},
   "outputs": [],
   "source": [
    "import tensorflow as tf\n",
    "from tensorflow import keras\n",
    "from tensorflow.keras import layers\n",
    "import h5py"
   ]
  },
  {
   "cell_type": "code",
   "execution_count": 4,
   "id": "9f169e75",
   "metadata": {},
   "outputs": [],
   "source": [
    "model = tf.keras.applications.MobileNetV2() #pre-trained model"
   ]
  },
  {
   "cell_type": "code",
   "execution_count": 11,
   "id": "4b1f6d53",
   "metadata": {
    "scrolled": true
   },
   "outputs": [],
   "source": [
    "#model.summary()"
   ]
  },
  {
   "cell_type": "markdown",
   "id": "c1eb029f",
   "metadata": {},
   "source": [
    "### Transfer Learning - Tuning, weights will start"
   ]
  },
  {
   "cell_type": "code",
   "execution_count": null,
   "id": "0190f79f",
   "metadata": {},
   "outputs": [],
   "source": [
    "#base_input = model."
   ]
  },
  {
   "cell_type": "code",
   "execution_count": null,
   "id": "600724a6",
   "metadata": {},
   "outputs": [],
   "source": []
  }
 ],
 "metadata": {
  "kernelspec": {
   "display_name": "Python 3 (ipykernel)",
   "language": "python",
   "name": "python3"
  },
  "language_info": {
   "codemirror_mode": {
    "name": "ipython",
    "version": 3
   },
   "file_extension": ".py",
   "mimetype": "text/x-python",
   "name": "python",
   "nbconvert_exporter": "python",
   "pygments_lexer": "ipython3",
   "version": "3.9.12"
  }
 },
 "nbformat": 4,
 "nbformat_minor": 5
}
